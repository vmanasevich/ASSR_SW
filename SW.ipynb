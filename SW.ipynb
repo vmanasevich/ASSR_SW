{
 "cells": [
  {
   "cell_type": "code",
   "execution_count": null,
   "id": "74883cf4",
   "metadata": {},
   "outputs": [],
   "source": [
    "pip install mne"
   ]
  },
  {
   "cell_type": "code",
   "execution_count": null,
   "id": "4b388bfb",
   "metadata": {},
   "outputs": [],
   "source": [
    "import mne\n",
    "from mne.preprocessing import ICA\n",
    "import matplotlib.pyplot as plt\n",
    "import numpy as np\n",
    "from scipy.stats import kurtosis\n",
    "from scipy.stats import skew , variation\n",
    "from scipy.signal import welch\n",
    "import pandas as pd\n",
    "from scipy.signal import hilbert\n",
    "import glob"
   ]
  },
  {
   "cell_type": "code",
   "execution_count": null,
   "id": "b2a54ded",
   "metadata": {},
   "outputs": [],
   "source": [
    "matplotlib qt"
   ]
  },
  {
   "cell_type": "code",
   "execution_count": null,
   "id": "2ecc8ae0",
   "metadata": {},
   "outputs": [],
   "source": [
    "import os"
   ]
  },
  {
   "cell_type": "code",
   "execution_count": null,
   "id": "d00e3090",
   "metadata": {},
   "outputs": [],
   "source": [
    "os.chdir('C:\\\\Users\\Siriususer\\Desktop\\downsampled')"
   ]
  },
  {
   "cell_type": "code",
   "execution_count": null,
   "id": "7ca2f914",
   "metadata": {},
   "outputs": [],
   "source": [
    "filenames = glob.glob('*_ASSR.vhdr')\n",
    "filenames"
   ]
  },
  {
   "cell_type": "code",
   "execution_count": null,
   "id": "71c655ed",
   "metadata": {},
   "outputs": [],
   "source": [
    "ID=[]\n",
    "for f in filenames:\n",
    "    ID.append(f[:8]) \n",
    "ID    "
   ]
  },
  {
   "cell_type": "code",
   "execution_count": null,
   "id": "6551495f",
   "metadata": {},
   "outputs": [],
   "source": [
    "EEG = []\n",
    "\n",
    "for i in range (len(ID)):  \n",
    "  name= f'{ID[i]}_ASSR.vhdr'\n",
    "  E = mne.io.read_raw_brainvision(name, \n",
    "                                  eog=('HEOGL', 'HEOGR', 'VEOGb'), \n",
    "                                  misc='auto', scale=1.0, \n",
    "                                  preload=True, verbose=None\n",
    "                                 )\n",
    "  EEG.append(E)"
   ]
  },
  {
   "cell_type": "code",
   "execution_count": null,
   "id": "3a42a3ee",
   "metadata": {},
   "outputs": [],
   "source": [
    "EEG[52].info"
   ]
  },
  {
   "cell_type": "code",
   "execution_count": null,
   "id": "e578a31c",
   "metadata": {},
   "outputs": [],
   "source": [
    "\n",
    "for i in range (len(EEG)):\n",
    "\n",
    "    EEG[i].plot(start=0, n_channels=31, scalings='0.0001')"
   ]
  },
  {
   "cell_type": "code",
   "execution_count": null,
   "id": "65d3f7f9",
   "metadata": {},
   "outputs": [],
   "source": [
    "#смотрим список плохих каналов\n",
    "for i in range (len(EEG)):\n",
    "    print(ID[i])\n",
    "    print(EEG[i].info['bads'])"
   ]
  },
  {
   "cell_type": "code",
   "execution_count": null,
   "id": "abbc0c80",
   "metadata": {},
   "outputs": [],
   "source": [
    "#Интерполируем плохие каналы\n",
    "for i in range (len(EEG)):\n",
    "  EEG[i]= EEG[i].interpolate_bads(reset_bads=True, method=dict(eeg='MNE'), verbose=True)"
   ]
  },
  {
   "cell_type": "code",
   "execution_count": null,
   "id": "ec040bbb",
   "metadata": {},
   "outputs": [],
   "source": [
    "#удаляем каналы фотодатчика и микрофона\n",
    "for i in range (len(EEG)):\n",
    "  EEG[i]=EEG[i].drop_channels(['Photo', 'micr'])  \n",
    " \n",
    "  EEG[i].plot(start=0,scalings='0.0001')"
   ]
  },
  {
   "cell_type": "code",
   "execution_count": null,
   "id": "417f78d5",
   "metadata": {},
   "outputs": [],
   "source": [
    "for i in range (len(EEG)):\n",
    "    EEG[i]= EEG[i].set_eeg_reference(ref_channels=\"average\")\n",
    "    #EEG[i].plot(start=0, n_channels=31, scalings='0.0001')"
   ]
  },
  {
   "cell_type": "code",
   "execution_count": null,
   "id": "6e690b66",
   "metadata": {},
   "outputs": [],
   "source": [
    "print(EEG[-1].info['ch_names'])"
   ]
  },
  {
   "cell_type": "code",
   "execution_count": null,
   "id": "7244af53",
   "metadata": {},
   "outputs": [],
   "source": [
    "#сохранение preprocessed файлов\n",
    "for i in range (len(ID)):\n",
    "  EEG[i].save('preproc'+ID[i]+ '_eeg' + '.fif', overwrite=True)"
   ]
  },
  {
   "cell_type": "code",
   "execution_count": null,
   "id": "51bdc9a8",
   "metadata": {},
   "outputs": [],
   "source": [
    "#загрузка preprocessed файлов если нужно\n",
    "\n",
    "EEG = []\n",
    "\n",
    "for i in range (len(ID)):  \n",
    "  name= f'preproc{ID[i]}_eeg.fif'\n",
    "  E = mne.io.read_raw_fif (name, preload=True)\n",
    "  EEG.append(E)"
   ]
  },
  {
   "cell_type": "code",
   "execution_count": 1,
   "id": "426a6a29",
   "metadata": {},
   "outputs": [],
   "source": [
    "#смотрим, какие каналы плохие\n",
    "\n",
    "for i in range (len(EEG)):\n",
    "    print(ID[i])\n",
    "    print(EEG[i].info['bads'])"
   ]
  },
  {
   "cell_type": "code",
   "execution_count": null,
   "id": "038e0ebd",
   "metadata": {},
   "outputs": [],
   "source": [
    "#создаём список меток\n",
    "Evlist = []\n",
    "for i in range (0, len(EEG)):\n",
    "  events=mne.events_from_annotations(EEG[i]) \n",
    "  Evlist.append(events)"
   ]
  },
  {
   "cell_type": "code",
   "execution_count": null,
   "id": "888a6175",
   "metadata": {},
   "outputs": [],
   "source": [
    "Evlist[i]\n"
   ]
  },
  {
   "cell_type": "code",
   "execution_count": null,
   "id": "31d79176",
   "metadata": {},
   "outputs": [],
   "source": [
    "for i in range (0, len(EEG)):\n",
    "    if 'Stimulus/S  2' in list(Evlist[i][1].keys()):\n",
    "        ev_id = Evlist[i][1]['Stimulus/S  2']\n",
    "    else: ev_id = Evlist[i][1]['Stimulus/S2']\n",
    "    print(ev_id)   "
   ]
  },
  {
   "cell_type": "code",
   "execution_count": null,
   "id": "d9f2366e",
   "metadata": {},
   "outputs": [],
   "source": [
    "#делим на эпохи\n",
    "eplist = []\n",
    "baseline=(-0.2,0)\n",
    "threshold=350e-6\n",
    "for i in range (0, len(EEG)):\n",
    "    if 'Stimulus/S  2' in list(Evlist[i][1].keys()):\n",
    "        ev_id = Evlist[i][1]['Stimulus/S  2']\n",
    "    else: ev_id = Evlist[i][1]['Stimulus/S2']\n",
    "    epochs_all = mne.Epochs(EEG[i], Evlist[i][0], event_id=[ev_id], # Коды меток, которые будут взяты в анализ\n",
    "                                        tmin=-0.2, tmax=0.8, preload=True, # Временной интервал вокруг события, который будет взят для анализа\n",
    "                                        baseline=baseline, \n",
    "                                        reject=dict(eeg=threshold)\n",
    "                           )\n",
    "    eplist.append(epochs_all)"
   ]
  },
  {
   "cell_type": "code",
   "execution_count": null,
   "id": "0b41e2d7",
   "metadata": {},
   "outputs": [],
   "source": [
    "#график меток и массив с метками\n",
    "fig = mne.viz.plot_events(Evlist[-1][0])\n",
    "Evlist[-1][0][:10]"
   ]
  },
  {
   "cell_type": "code",
   "execution_count": null,
   "id": "29d81005",
   "metadata": {},
   "outputs": [],
   "source": [
    "#какие коды меток у нас есть?\n",
    "for i in range (0, len(EEG)):\n",
    "    codes=list(eplist[i].event_id.values())\n",
    "    print(codes)"
   ]
  },
  {
   "cell_type": "code",
   "execution_count": null,
   "id": "5e0f68ca",
   "metadata": {},
   "outputs": [],
   "source": [
    "#какие у нас эпохи и сколько\n",
    "for i in range (len(EEG)):\n",
    "    print(ID[i])\n",
    "    print(eplist[i])"
   ]
  },
  {
   "cell_type": "code",
   "execution_count": null,
   "id": "d3911aba",
   "metadata": {},
   "outputs": [],
   "source": [
    "#определение функции обрезки по стандартному отклонению (5std)\n",
    "def dpop_epochs_by_sigma(epochs_1):\n",
    "\n",
    "    data_epochs_1=epochs_1.get_data()\n",
    "    mean_=np.mean(data_epochs_1,(0,2))\n",
    "    std_=np.std(data_epochs_1,(0,2))\n",
    "\n",
    "    max_=(mean_+5*std_)\n",
    "    min_=(mean_-5*std_)\n",
    "\n",
    "\n",
    "    axx=data_epochs_1.shape[0]\n",
    "    axx2=data_epochs_1.shape[2]\n",
    "    rej=[]\n",
    "\n",
    "    for i in range(axx):\n",
    "      for j in range(axx2):\n",
    "        if np.sum(max_-data_epochs_1[i,:,j]<0)!=0 or np.sum(min_-data_epochs_1[i,:,j]>0)!=0:\n",
    "                rej.append(i)\n",
    "\n",
    "        \n",
    "    reject_list=np.unique(rej).tolist()\n",
    "    epochs_1.drop(reject_list)\n",
    "    return rej"
   ]
  },
  {
   "cell_type": "code",
   "execution_count": null,
   "id": "34db9dbe",
   "metadata": {},
   "outputs": [],
   "source": [
    "#обрезка по стандартному отклонению\n",
    "for i in range(len(eplist)):\n",
    "    dpop_epochs_by_sigma(eplist[i])"
   ]
  },
  {
   "cell_type": "code",
   "execution_count": null,
   "id": "de694f2b",
   "metadata": {},
   "outputs": [],
   "source": [
    "#усреднение по эпохам внутри испытуемых\n",
    "\n",
    "sub_epochs=[]\n",
    "\n",
    "for i in range (len(EEG)): \n",
    "    avg_epochs=eplist[i].average()\n",
    "    sub_epochs.append(avg_epochs)"
   ]
  },
  {
   "cell_type": "code",
   "execution_count": null,
   "id": "21387096",
   "metadata": {},
   "outputs": [],
   "source": [
    "for i in range(len(sub_epochs)): #отрисовать SW для каждого испытуемого\n",
    "    sub_epochs[i].plot(window_title= 'SW', picks='F7')"
   ]
  },
  {
   "cell_type": "code",
   "execution_count": null,
   "id": "df52f9d5",
   "metadata": {},
   "outputs": [],
   "source": [
    "SW=[]\n",
    "\n",
    "SW_=mne.grand_average(sub_epochs)\n",
    "SW.append(SW_)"
   ]
  },
  {
   "cell_type": "code",
   "execution_count": null,
   "id": "2492a431",
   "metadata": {},
   "outputs": [],
   "source": [
    "SW_.plot()"
   ]
  },
  {
   "cell_type": "code",
   "execution_count": null,
   "id": "552c5cec",
   "metadata": {},
   "outputs": [],
   "source": [
    "for i in range (len(EEG)):\n",
    "    print(ID[i])\n",
    "    print(sub_epochs[i])"
   ]
  },
  {
   "cell_type": "code",
   "execution_count": null,
   "id": "40aa996e",
   "metadata": {},
   "outputs": [],
   "source": [
    "type(avg_epochs)\n"
   ]
  },
  {
   "cell_type": "code",
   "execution_count": null,
   "id": "5acb45cc",
   "metadata": {},
   "outputs": [],
   "source": [
    "mean_amp_roi_list, IDs = [], []\n",
    "\n",
    "for i in range (len(EEG)):\n",
    "\n",
    "# Select all of the channels and crop to the time window\n",
    "    channels = [\"F7\"]\n",
    "    sub_epochs_mean_roi = sub_epochs[i].copy().pick(channels).crop(tmin=0.25, tmax=0.55)\n",
    "\n",
    "# Extract mean amplitude in µV over time\n",
    "    mean_amp_roi_list.append(sub_epochs_mean_roi.data.mean(axis=1)[0] * 1e6)\n",
    "    \n",
    "    IDs.append(ID[i])\n",
    "    \n",
    "\n",
    "# Store the data in a data frame\n",
    "mean_amp_roi_df = pd.DataFrame(\n",
    "    {\n",
    "#        \"ch_name\": sub_epochs_mean_roi.ch_names,\n",
    "        \"ID\": IDs,\n",
    "        \"mean_amp\": mean_amp_roi_list,\n",
    "    }\n",
    ")\n",
    "# Print the data frame\n",
    "#print(mean_amp_roi_df[i].mean(numeric_only=True))"
   ]
  },
  {
   "cell_type": "code",
   "execution_count": null,
   "id": "499f99a8",
   "metadata": {},
   "outputs": [],
   "source": [
    "mean_amp_roi_df"
   ]
  }
 ],
 "metadata": {
  "kernelspec": {
   "display_name": "Python 3 (ipykernel)",
   "language": "python",
   "name": "python3"
  },
  "language_info": {
   "codemirror_mode": {
    "name": "ipython",
    "version": 3
   },
   "file_extension": ".py",
   "mimetype": "text/x-python",
   "name": "python",
   "nbconvert_exporter": "python",
   "pygments_lexer": "ipython3",
   "version": "3.9.12"
  }
 },
 "nbformat": 4,
 "nbformat_minor": 5
}
